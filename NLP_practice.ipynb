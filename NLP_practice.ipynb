{
 "cells": [
  {
   "cell_type": "code",
   "execution_count": 1,
   "metadata": {},
   "outputs": [],
   "source": [
    "import numpy as np\n",
    "import pandas as pd\n",
    "import matplotlib.pyplot as plt\n",
    "import seaborn as sns\n",
    "%matplotlib inline\n",
    "sns.set_style(\"whitegrid\")"
   ]
  },
  {
   "cell_type": "code",
   "execution_count": 2,
   "metadata": {},
   "outputs": [],
   "source": [
    "import nltk\n",
    "from nltk.corpus import stopwords"
   ]
  },
  {
   "cell_type": "code",
   "execution_count": 29,
   "metadata": {},
   "outputs": [],
   "source": [
    "import string\n",
    "import re"
   ]
  },
  {
   "cell_type": "code",
   "execution_count": 125,
   "metadata": {},
   "outputs": [],
   "source": [
    "from sklearn.feature_extraction.text import CountVectorizer, TfidfTransformer\n",
    "from sklearn.naive_bayes import MultinomialNB\n",
    "from sklearn.model_selection import train_test_split\n",
    "from sklearn.pipeline import Pipeline\n",
    "from sklearn.metrics import classification_report, confusion_matrix"
   ]
  },
  {
   "cell_type": "code",
   "execution_count": 3,
   "metadata": {},
   "outputs": [
    {
     "name": "stdout",
     "output_type": "stream",
     "text": [
      "NLTK Downloader\n",
      "---------------------------------------------------------------------------\n",
      "    d) Download   l) List    u) Update   c) Config   h) Help   q) Quit\n",
      "---------------------------------------------------------------------------\n",
      "Downloader> d\n",
      "\n",
      "Download which package (l=list; x=cancel)?\n",
      "  Identifier> stopwords\n"
     ]
    },
    {
     "name": "stderr",
     "output_type": "stream",
     "text": [
      "    Downloading package stopwords to\n",
      "        C:\\Users\\AJ\\AppData\\Roaming\\nltk_data...\n",
      "      Package stopwords is already up-to-date!\n"
     ]
    },
    {
     "name": "stdout",
     "output_type": "stream",
     "text": [
      "\n",
      "---------------------------------------------------------------------------\n",
      "    d) Download   l) List    u) Update   c) Config   h) Help   q) Quit\n",
      "---------------------------------------------------------------------------\n",
      "Downloader> q\n"
     ]
    }
   ],
   "source": [
    "# We use this to literally download the \"stopwords\" package to our machines\n",
    "# The literal file is saved in the <users>/AppData/Roaming... folder\n",
    "# Hence, you only have to download it once\n",
    "nltk.download_shell()"
   ]
  },
  {
   "cell_type": "code",
   "execution_count": 5,
   "metadata": {},
   "outputs": [],
   "source": [
    "messages = [msg.rstrip() for msg in open(\"smsspamcollection/SMSSpamCollection\")]"
   ]
  },
  {
   "cell_type": "code",
   "execution_count": 6,
   "metadata": {},
   "outputs": [
    {
     "data": {
      "text/plain": [
       "['ham\\tGo until jurong point, crazy.. Available only in bugis n great world la e buffet... Cine there got amore wat...',\n",
       " 'ham\\tOk lar... Joking wif u oni...',\n",
       " \"spam\\tFree entry in 2 a wkly comp to win FA Cup final tkts 21st May 2005. Text FA to 87121 to receive entry question(std txt rate)T&C's apply 08452810075over18's\",\n",
       " 'ham\\tU dun say so early hor... U c already then say...',\n",
       " \"ham\\tNah I don't think he goes to usf, he lives around here though\",\n",
       " \"spam\\tFreeMsg Hey there darling it's been 3 week's now and no word back! I'd like some fun you up for it still? Tb ok! XxX std chgs to send, Â£1.50 to rcv\",\n",
       " 'ham\\tEven my brother is not like to speak with me. They treat me like aids patent.',\n",
       " \"ham\\tAs per your request 'Melle Melle (Oru Minnaminunginte Nurungu Vettam)' has been set as your callertune for all Callers. Press *9 to copy your friends Callertune\",\n",
       " 'spam\\tWINNER!! As a valued network customer you have been selected to receivea Â£900 prize reward! To claim call 09061701461. Claim code KL341. Valid 12 hours only.',\n",
       " 'spam\\tHad your mobile 11 months or more? U R entitled to Update to the latest colour mobiles with camera for Free! Call The Mobile Update Co FREE on 08002986030']"
      ]
     },
     "execution_count": 6,
     "metadata": {},
     "output_type": "execute_result"
    }
   ],
   "source": [
    "messages[:10]"
   ]
  },
  {
   "cell_type": "code",
   "execution_count": 7,
   "metadata": {},
   "outputs": [
    {
     "data": {
      "text/plain": [
       "5574"
      ]
     },
     "execution_count": 7,
     "metadata": {},
     "output_type": "execute_result"
    }
   ],
   "source": [
    "len(messages)"
   ]
  },
  {
   "cell_type": "code",
   "execution_count": 8,
   "metadata": {},
   "outputs": [
    {
     "name": "stdout",
     "output_type": "stream",
     "text": [
      "0 ham\tGo until jurong point, crazy.. Available only in bugis n great world la e buffet... Cine there got amore wat... \n",
      "\n",
      "1 ham\tOk lar... Joking wif u oni... \n",
      "\n",
      "2 spam\tFree entry in 2 a wkly comp to win FA Cup final tkts 21st May 2005. Text FA to 87121 to receive entry question(std txt rate)T&C's apply 08452810075over18's \n",
      "\n",
      "3 ham\tU dun say so early hor... U c already then say... \n",
      "\n",
      "4 ham\tNah I don't think he goes to usf, he lives around here though \n",
      "\n",
      "5 spam\tFreeMsg Hey there darling it's been 3 week's now and no word back! I'd like some fun you up for it still? Tb ok! XxX std chgs to send, Â£1.50 to rcv \n",
      "\n",
      "6 ham\tEven my brother is not like to speak with me. They treat me like aids patent. \n",
      "\n",
      "7 ham\tAs per your request 'Melle Melle (Oru Minnaminunginte Nurungu Vettam)' has been set as your callertune for all Callers. Press *9 to copy your friends Callertune \n",
      "\n",
      "8 spam\tWINNER!! As a valued network customer you have been selected to receivea Â£900 prize reward! To claim call 09061701461. Claim code KL341. Valid 12 hours only. \n",
      "\n",
      "9 spam\tHad your mobile 11 months or more? U R entitled to Update to the latest colour mobiles with camera for Free! Call The Mobile Update Co FREE on 08002986030 \n",
      "\n"
     ]
    }
   ],
   "source": [
    "for msg_num, msg in enumerate(messages[:10]):\n",
    "    print(msg_num, msg, \"\\n\")"
   ]
  },
  {
   "cell_type": "code",
   "execution_count": 9,
   "metadata": {},
   "outputs": [],
   "source": [
    "messages = pd.read_csv(\"smsspamcollection/SMSSpamCollection\", sep=\"\\t\", names=[\"label\", \"message\"])"
   ]
  },
  {
   "cell_type": "code",
   "execution_count": 10,
   "metadata": {},
   "outputs": [
    {
     "data": {
      "text/html": [
       "<div>\n",
       "<style scoped>\n",
       "    .dataframe tbody tr th:only-of-type {\n",
       "        vertical-align: middle;\n",
       "    }\n",
       "\n",
       "    .dataframe tbody tr th {\n",
       "        vertical-align: top;\n",
       "    }\n",
       "\n",
       "    .dataframe thead th {\n",
       "        text-align: right;\n",
       "    }\n",
       "</style>\n",
       "<table border=\"1\" class=\"dataframe\">\n",
       "  <thead>\n",
       "    <tr style=\"text-align: right;\">\n",
       "      <th></th>\n",
       "      <th>label</th>\n",
       "      <th>message</th>\n",
       "    </tr>\n",
       "  </thead>\n",
       "  <tbody>\n",
       "    <tr>\n",
       "      <th>0</th>\n",
       "      <td>ham</td>\n",
       "      <td>Go until jurong point, crazy.. Available only ...</td>\n",
       "    </tr>\n",
       "    <tr>\n",
       "      <th>1</th>\n",
       "      <td>ham</td>\n",
       "      <td>Ok lar... Joking wif u oni...</td>\n",
       "    </tr>\n",
       "    <tr>\n",
       "      <th>2</th>\n",
       "      <td>spam</td>\n",
       "      <td>Free entry in 2 a wkly comp to win FA Cup fina...</td>\n",
       "    </tr>\n",
       "    <tr>\n",
       "      <th>3</th>\n",
       "      <td>ham</td>\n",
       "      <td>U dun say so early hor... U c already then say...</td>\n",
       "    </tr>\n",
       "    <tr>\n",
       "      <th>4</th>\n",
       "      <td>ham</td>\n",
       "      <td>Nah I don't think he goes to usf, he lives aro...</td>\n",
       "    </tr>\n",
       "  </tbody>\n",
       "</table>\n",
       "</div>"
      ],
      "text/plain": [
       "  label                                            message\n",
       "0   ham  Go until jurong point, crazy.. Available only ...\n",
       "1   ham                      Ok lar... Joking wif u oni...\n",
       "2  spam  Free entry in 2 a wkly comp to win FA Cup fina...\n",
       "3   ham  U dun say so early hor... U c already then say...\n",
       "4   ham  Nah I don't think he goes to usf, he lives aro..."
      ]
     },
     "execution_count": 10,
     "metadata": {},
     "output_type": "execute_result"
    }
   ],
   "source": [
    "messages.head()"
   ]
  },
  {
   "cell_type": "markdown",
   "metadata": {},
   "source": [
    "EDA"
   ]
  },
  {
   "cell_type": "code",
   "execution_count": 11,
   "metadata": {},
   "outputs": [
    {
     "data": {
      "text/html": [
       "<div>\n",
       "<style scoped>\n",
       "    .dataframe tbody tr th:only-of-type {\n",
       "        vertical-align: middle;\n",
       "    }\n",
       "\n",
       "    .dataframe tbody tr th {\n",
       "        vertical-align: top;\n",
       "    }\n",
       "\n",
       "    .dataframe thead th {\n",
       "        text-align: right;\n",
       "    }\n",
       "</style>\n",
       "<table border=\"1\" class=\"dataframe\">\n",
       "  <thead>\n",
       "    <tr style=\"text-align: right;\">\n",
       "      <th></th>\n",
       "      <th>label</th>\n",
       "      <th>message</th>\n",
       "    </tr>\n",
       "  </thead>\n",
       "  <tbody>\n",
       "    <tr>\n",
       "      <th>count</th>\n",
       "      <td>5572</td>\n",
       "      <td>5572</td>\n",
       "    </tr>\n",
       "    <tr>\n",
       "      <th>unique</th>\n",
       "      <td>2</td>\n",
       "      <td>5169</td>\n",
       "    </tr>\n",
       "    <tr>\n",
       "      <th>top</th>\n",
       "      <td>ham</td>\n",
       "      <td>Sorry, I'll call later</td>\n",
       "    </tr>\n",
       "    <tr>\n",
       "      <th>freq</th>\n",
       "      <td>4825</td>\n",
       "      <td>30</td>\n",
       "    </tr>\n",
       "  </tbody>\n",
       "</table>\n",
       "</div>"
      ],
      "text/plain": [
       "       label                 message\n",
       "count   5572                    5572\n",
       "unique     2                    5169\n",
       "top      ham  Sorry, I'll call later\n",
       "freq    4825                      30"
      ]
     },
     "execution_count": 11,
     "metadata": {},
     "output_type": "execute_result"
    }
   ],
   "source": [
    "messages.describe()"
   ]
  },
  {
   "cell_type": "code",
   "execution_count": 12,
   "metadata": {},
   "outputs": [
    {
     "name": "stdout",
     "output_type": "stream",
     "text": [
      "<class 'pandas.core.frame.DataFrame'>\n",
      "RangeIndex: 5572 entries, 0 to 5571\n",
      "Data columns (total 2 columns):\n",
      " #   Column   Non-Null Count  Dtype \n",
      "---  ------   --------------  ----- \n",
      " 0   label    5572 non-null   object\n",
      " 1   message  5572 non-null   object\n",
      "dtypes: object(2)\n",
      "memory usage: 87.2+ KB\n"
     ]
    }
   ],
   "source": [
    "messages.info()"
   ]
  },
  {
   "cell_type": "code",
   "execution_count": 13,
   "metadata": {},
   "outputs": [
    {
     "data": {
      "text/html": [
       "<div>\n",
       "<style scoped>\n",
       "    .dataframe tbody tr th:only-of-type {\n",
       "        vertical-align: middle;\n",
       "    }\n",
       "\n",
       "    .dataframe tbody tr th {\n",
       "        vertical-align: top;\n",
       "    }\n",
       "\n",
       "    .dataframe thead tr th {\n",
       "        text-align: left;\n",
       "    }\n",
       "\n",
       "    .dataframe thead tr:last-of-type th {\n",
       "        text-align: right;\n",
       "    }\n",
       "</style>\n",
       "<table border=\"1\" class=\"dataframe\">\n",
       "  <thead>\n",
       "    <tr>\n",
       "      <th></th>\n",
       "      <th colspan=\"4\" halign=\"left\">message</th>\n",
       "    </tr>\n",
       "    <tr>\n",
       "      <th></th>\n",
       "      <th>count</th>\n",
       "      <th>unique</th>\n",
       "      <th>top</th>\n",
       "      <th>freq</th>\n",
       "    </tr>\n",
       "    <tr>\n",
       "      <th>label</th>\n",
       "      <th></th>\n",
       "      <th></th>\n",
       "      <th></th>\n",
       "      <th></th>\n",
       "    </tr>\n",
       "  </thead>\n",
       "  <tbody>\n",
       "    <tr>\n",
       "      <th>ham</th>\n",
       "      <td>4825</td>\n",
       "      <td>4516</td>\n",
       "      <td>Sorry, I'll call later</td>\n",
       "      <td>30</td>\n",
       "    </tr>\n",
       "    <tr>\n",
       "      <th>spam</th>\n",
       "      <td>747</td>\n",
       "      <td>653</td>\n",
       "      <td>Please call our customer service representativ...</td>\n",
       "      <td>4</td>\n",
       "    </tr>\n",
       "  </tbody>\n",
       "</table>\n",
       "</div>"
      ],
      "text/plain": [
       "      message                                                               \n",
       "        count unique                                                top freq\n",
       "label                                                                       \n",
       "ham      4825   4516                             Sorry, I'll call later   30\n",
       "spam      747    653  Please call our customer service representativ...    4"
      ]
     },
     "execution_count": 13,
     "metadata": {},
     "output_type": "execute_result"
    }
   ],
   "source": [
    "messages.groupby(\"label\").describe()"
   ]
  },
  {
   "cell_type": "code",
   "execution_count": 14,
   "metadata": {},
   "outputs": [
    {
     "data": {
      "text/plain": [
       "<matplotlib.axes._subplots.AxesSubplot at 0x1277b92edc8>"
      ]
     },
     "execution_count": 14,
     "metadata": {},
     "output_type": "execute_result"
    },
    {
     "data": {
      "image/png": "[encoded data removed]",
      "text/plain": [
       "<Figure size 432x288 with 1 Axes>"
      ]
     },
     "metadata": {},
     "output_type": "display_data"
    }
   ],
   "source": [
    "sns.countplot(x=\"label\", data=messages)"
   ]
  },
  {
   "cell_type": "code",
   "execution_count": 15,
   "metadata": {},
   "outputs": [],
   "source": [
    "messages[\"length\"] = messages[\"message\"].apply(len)"
   ]
  },
  {
   "cell_type": "code",
   "execution_count": 16,
   "metadata": {},
   "outputs": [
    {
     "data": {
      "text/html": [
       "<div>\n",
       "<style scoped>\n",
       "    .dataframe tbody tr th:only-of-type {\n",
       "        vertical-align: middle;\n",
       "    }\n",
       "\n",
       "    .dataframe tbody tr th {\n",
       "        vertical-align: top;\n",
       "    }\n",
       "\n",
       "    .dataframe thead th {\n",
       "        text-align: right;\n",
       "    }\n",
       "</style>\n",
       "<table border=\"1\" class=\"dataframe\">\n",
       "  <thead>\n",
       "    <tr style=\"text-align: right;\">\n",
       "      <th></th>\n",
       "      <th>label</th>\n",
       "      <th>message</th>\n",
       "      <th>length</th>\n",
       "    </tr>\n",
       "  </thead>\n",
       "  <tbody>\n",
       "    <tr>\n",
       "      <th>0</th>\n",
       "      <td>ham</td>\n",
       "      <td>Go until jurong point, crazy.. Available only ...</td>\n",
       "      <td>111</td>\n",
       "    </tr>\n",
       "    <tr>\n",
       "      <th>1</th>\n",
       "      <td>ham</td>\n",
       "      <td>Ok lar... Joking wif u oni...</td>\n",
       "      <td>29</td>\n",
       "    </tr>\n",
       "    <tr>\n",
       "      <th>2</th>\n",
       "      <td>spam</td>\n",
       "      <td>Free entry in 2 a wkly comp to win FA Cup fina...</td>\n",
       "      <td>155</td>\n",
       "    </tr>\n",
       "    <tr>\n",
       "      <th>3</th>\n",
       "      <td>ham</td>\n",
       "      <td>U dun say so early hor... U c already then say...</td>\n",
       "      <td>49</td>\n",
       "    </tr>\n",
       "    <tr>\n",
       "      <th>4</th>\n",
       "      <td>ham</td>\n",
       "      <td>Nah I don't think he goes to usf, he lives aro...</td>\n",
       "      <td>61</td>\n",
       "    </tr>\n",
       "  </tbody>\n",
       "</table>\n",
       "</div>"
      ],
      "text/plain": [
       "  label                                            message  length\n",
       "0   ham  Go until jurong point, crazy.. Available only ...     111\n",
       "1   ham                      Ok lar... Joking wif u oni...      29\n",
       "2  spam  Free entry in 2 a wkly comp to win FA Cup fina...     155\n",
       "3   ham  U dun say so early hor... U c already then say...      49\n",
       "4   ham  Nah I don't think he goes to usf, he lives aro...      61"
      ]
     },
     "execution_count": 16,
     "metadata": {},
     "output_type": "execute_result"
    }
   ],
   "source": [
    "messages.head()"
   ]
  },
  {
   "cell_type": "code",
   "execution_count": 17,
   "metadata": {},
   "outputs": [
    {
     "data": {
      "text/plain": [
       "<matplotlib.axes._subplots.AxesSubplot at 0x1277b81dfc8>"
      ]
     },
     "execution_count": 17,
     "metadata": {},
     "output_type": "execute_result"
    },
    {
     "data": {
      "image/png": "[encoded data removed]",
      "text/plain": [
       "<Figure size 1008x288 with 1 Axes>"
      ]
     },
     "metadata": {},
     "output_type": "display_data"
    }
   ],
   "source": [
    "plt.figure(figsize=(14,4))\n",
    "sns.distplot(messages[\"length\"], bins=150)"
   ]
  },
  {
   "cell_type": "code",
   "execution_count": 18,
   "metadata": {},
   "outputs": [
    {
     "data": {
      "text/plain": [
       "count    5572.000000\n",
       "mean       80.489950\n",
       "std        59.942907\n",
       "min         2.000000\n",
       "25%        36.000000\n",
       "50%        62.000000\n",
       "75%       122.000000\n",
       "max       910.000000\n",
       "Name: length, dtype: float64"
      ]
     },
     "execution_count": 18,
     "metadata": {},
     "output_type": "execute_result"
    }
   ],
   "source": [
    "messages[\"length\"].describe()"
   ]
  },
  {
   "cell_type": "code",
   "execution_count": 19,
   "metadata": {},
   "outputs": [
    {
     "data": {
      "text/html": [
       "<div>\n",
       "<style scoped>\n",
       "    .dataframe tbody tr th:only-of-type {\n",
       "        vertical-align: middle;\n",
       "    }\n",
       "\n",
       "    .dataframe tbody tr th {\n",
       "        vertical-align: top;\n",
       "    }\n",
       "\n",
       "    .dataframe thead th {\n",
       "        text-align: right;\n",
       "    }\n",
       "</style>\n",
       "<table border=\"1\" class=\"dataframe\">\n",
       "  <thead>\n",
       "    <tr style=\"text-align: right;\">\n",
       "      <th></th>\n",
       "      <th>label</th>\n",
       "      <th>message</th>\n",
       "      <th>length</th>\n",
       "    </tr>\n",
       "  </thead>\n",
       "  <tbody>\n",
       "    <tr>\n",
       "      <th>1085</th>\n",
       "      <td>ham</td>\n",
       "      <td>For me the love should start with attraction.i...</td>\n",
       "      <td>910</td>\n",
       "    </tr>\n",
       "  </tbody>\n",
       "</table>\n",
       "</div>"
      ],
      "text/plain": [
       "     label                                            message  length\n",
       "1085   ham  For me the love should start with attraction.i...     910"
      ]
     },
     "execution_count": 19,
     "metadata": {},
     "output_type": "execute_result"
    }
   ],
   "source": [
    "messages[messages[\"length\"]>900]"
   ]
  },
  {
   "cell_type": "code",
   "execution_count": 20,
   "metadata": {},
   "outputs": [
    {
     "data": {
      "text/plain": [
       "\"For me the love should start with attraction.i should feel that I need her every time around me.she should be the first thing which comes in my thoughts.I would start the day and end it with her.she should be there every time I dream.love will be then when my every breath has her name.my life should happen around her.my life will be named to her.I would cry for her.will give all my happiness and take all her sorrows.I will be ready to fight with anyone for her.I will be in love when I will be doing the craziest things for her.love will be when I don't have to proove anyone that my girl is the most beautiful lady on the whole planet.I will always be singing praises for her.love will be when I start up making chicken curry and end up makiing sambar.life will be the most beautiful then.will get every morning and thank god for the day because she is with me.I would like to say a lot..will tell later..\""
      ]
     },
     "execution_count": 20,
     "metadata": {},
     "output_type": "execute_result"
    }
   ],
   "source": [
    "messages[messages[\"length\"]>900][\"message\"].iloc[0]"
   ]
  },
  {
   "cell_type": "code",
   "execution_count": 21,
   "metadata": {},
   "outputs": [
    {
     "data": {
      "text/plain": [
       "\"For me the love should start with attraction.i should feel that I need her every time around me.she should be the first thing which comes in my thoughts.I would start the day and end it with her.she should be there every time I dream.love will be then when my every breath has her name.my life should happen around her.my life will be named to her.I would cry for her.will give all my happiness and take all her sorrows.I will be ready to fight with anyone for her.I will be in love when I will be doing the craziest things for her.love will be when I don't have to proove anyone that my girl is the most beautiful lady on the whole planet.I will always be singing praises for her.love will be when I start up making chicken curry and end up makiing sambar.life will be the most beautiful then.will get every morning and thank god for the day because she is with me.I would like to say a lot..will tell later..\""
      ]
     },
     "execution_count": 21,
     "metadata": {},
     "output_type": "execute_result"
    }
   ],
   "source": [
    "messages.iloc[1085][\"message\"]"
   ]
  },
  {
   "cell_type": "code",
   "execution_count": 22,
   "metadata": {},
   "outputs": [
    {
     "data": {
      "text/plain": [
       "<seaborn.axisgrid.FacetGrid at 0x1277b81d108>"
      ]
     },
     "execution_count": 22,
     "metadata": {},
     "output_type": "execute_result"
    },
    {
     "data": {
      "image/png": "[encoded data removed]",
      "text/plain": [
       "<Figure size 720x360 with 2 Axes>"
      ]
     },
     "metadata": {},
     "output_type": "display_data"
    }
   ],
   "source": [
    "my_grid = sns.FacetGrid(data=messages, col=\"label\", height=5)\n",
    "\n",
    "my_grid.map(sns.distplot, \"length\")"
   ]
  },
  {
   "cell_type": "code",
   "execution_count": 23,
   "metadata": {},
   "outputs": [
    {
     "data": {
      "text/plain": [
       "array([<matplotlib.axes._subplots.AxesSubplot object at 0x000001277C166A48>,\n",
       "       <matplotlib.axes._subplots.AxesSubplot object at 0x000001277C3CFD48>],\n",
       "      dtype=object)"
      ]
     },
     "execution_count": 23,
     "metadata": {},
     "output_type": "execute_result"
    },
    {
     "data": {
      "image/png": "[encoded data removed]",
      "text/plain": [
       "<Figure size 1008x432 with 2 Axes>"
      ]
     },
     "metadata": {},
     "output_type": "display_data"
    }
   ],
   "source": [
    "messages.hist(column=\"length\", by=\"label\", figsize=(14,6), bins=50)"
   ]
  },
  {
   "cell_type": "markdown",
   "metadata": {},
   "source": [
    "**Clean the data AND Text Preprocessing. We need to convert the text data into numerical data!**"
   ]
  },
  {
   "cell_type": "code",
   "execution_count": 24,
   "metadata": {},
   "outputs": [
    {
     "data": {
      "text/plain": [
       "['i',\n",
       " 'me',\n",
       " 'my',\n",
       " 'myself',\n",
       " 'we',\n",
       " 'our',\n",
       " 'ours',\n",
       " 'ourselves',\n",
       " 'you',\n",
       " \"you're\",\n",
       " \"you've\",\n",
       " \"you'll\",\n",
       " \"you'd\",\n",
       " 'your',\n",
       " 'yours',\n",
       " 'yourself',\n",
       " 'yourselves',\n",
       " 'he',\n",
       " 'him',\n",
       " 'his',\n",
       " 'himself',\n",
       " 'she',\n",
       " \"she's\",\n",
       " 'her',\n",
       " 'hers',\n",
       " 'herself',\n",
       " 'it',\n",
       " \"it's\",\n",
       " 'its',\n",
       " 'itself',\n",
       " 'they',\n",
       " 'them',\n",
       " 'their',\n",
       " 'theirs',\n",
       " 'themselves',\n",
       " 'what',\n",
       " 'which',\n",
       " 'who',\n",
       " 'whom',\n",
       " 'this',\n",
       " 'that',\n",
       " \"that'll\",\n",
       " 'these',\n",
       " 'those',\n",
       " 'am',\n",
       " 'is',\n",
       " 'are',\n",
       " 'was',\n",
       " 'were',\n",
       " 'be',\n",
       " 'been',\n",
       " 'being',\n",
       " 'have',\n",
       " 'has',\n",
       " 'had',\n",
       " 'having',\n",
       " 'do',\n",
       " 'does',\n",
       " 'did',\n",
       " 'doing',\n",
       " 'a',\n",
       " 'an',\n",
       " 'the',\n",
       " 'and',\n",
       " 'but',\n",
       " 'if',\n",
       " 'or',\n",
       " 'because',\n",
       " 'as',\n",
       " 'until',\n",
       " 'while',\n",
       " 'of',\n",
       " 'at',\n",
       " 'by',\n",
       " 'for',\n",
       " 'with',\n",
       " 'about',\n",
       " 'against',\n",
       " 'between',\n",
       " 'into',\n",
       " 'through',\n",
       " 'during',\n",
       " 'before',\n",
       " 'after',\n",
       " 'above',\n",
       " 'below',\n",
       " 'to',\n",
       " 'from',\n",
       " 'up',\n",
       " 'down',\n",
       " 'in',\n",
       " 'out',\n",
       " 'on',\n",
       " 'off',\n",
       " 'over',\n",
       " 'under',\n",
       " 'again',\n",
       " 'further',\n",
       " 'then',\n",
       " 'once',\n",
       " 'here',\n",
       " 'there',\n",
       " 'when',\n",
       " 'where',\n",
       " 'why',\n",
       " 'how',\n",
       " 'all',\n",
       " 'any',\n",
       " 'both',\n",
       " 'each',\n",
       " 'few',\n",
       " 'more',\n",
       " 'most',\n",
       " 'other',\n",
       " 'some',\n",
       " 'such',\n",
       " 'no',\n",
       " 'nor',\n",
       " 'not',\n",
       " 'only',\n",
       " 'own',\n",
       " 'same',\n",
       " 'so',\n",
       " 'than',\n",
       " 'too',\n",
       " 'very',\n",
       " 's',\n",
       " 't',\n",
       " 'can',\n",
       " 'will',\n",
       " 'just',\n",
       " 'don',\n",
       " \"don't\",\n",
       " 'should',\n",
       " \"should've\",\n",
       " 'now',\n",
       " 'd',\n",
       " 'll',\n",
       " 'm',\n",
       " 'o',\n",
       " 're',\n",
       " 've',\n",
       " 'y',\n",
       " 'ain',\n",
       " 'aren',\n",
       " \"aren't\",\n",
       " 'couldn',\n",
       " \"couldn't\",\n",
       " 'didn',\n",
       " \"didn't\",\n",
       " 'doesn',\n",
       " \"doesn't\",\n",
       " 'hadn',\n",
       " \"hadn't\",\n",
       " 'hasn',\n",
       " \"hasn't\",\n",
       " 'haven',\n",
       " \"haven't\",\n",
       " 'isn',\n",
       " \"isn't\",\n",
       " 'ma',\n",
       " 'mightn',\n",
       " \"mightn't\",\n",
       " 'mustn',\n",
       " \"mustn't\",\n",
       " 'needn',\n",
       " \"needn't\",\n",
       " 'shan',\n",
       " \"shan't\",\n",
       " 'shouldn',\n",
       " \"shouldn't\",\n",
       " 'wasn',\n",
       " \"wasn't\",\n",
       " 'weren',\n",
       " \"weren't\",\n",
       " 'won',\n",
       " \"won't\",\n",
       " 'wouldn',\n",
       " \"wouldn't\"]"
      ]
     },
     "execution_count": 24,
     "metadata": {},
     "output_type": "execute_result"
    }
   ],
   "source": [
    "stopwords.words(\"english\")"
   ]
  },
  {
   "cell_type": "code",
   "execution_count": 25,
   "metadata": {},
   "outputs": [
    {
     "data": {
      "text/plain": [
       "'!\"#$%&\\'()*+,-./:;<=>?@[\\\\]^_`{|}~'"
      ]
     },
     "execution_count": 25,
     "metadata": {},
     "output_type": "execute_result"
    }
   ],
   "source": [
    "string.punctuation"
   ]
  },
  {
   "cell_type": "markdown",
   "metadata": {},
   "source": [
    "We will convert each message to a list of it's words, remove any punctuation, and remove any common words (stopwords)"
   ]
  },
  {
   "cell_type": "code",
   "execution_count": 26,
   "metadata": {},
   "outputs": [
    {
     "data": {
      "text/html": [
       "<div>\n",
       "<style scoped>\n",
       "    .dataframe tbody tr th:only-of-type {\n",
       "        vertical-align: middle;\n",
       "    }\n",
       "\n",
       "    .dataframe tbody tr th {\n",
       "        vertical-align: top;\n",
       "    }\n",
       "\n",
       "    .dataframe thead th {\n",
       "        text-align: right;\n",
       "    }\n",
       "</style>\n",
       "<table border=\"1\" class=\"dataframe\">\n",
       "  <thead>\n",
       "    <tr style=\"text-align: right;\">\n",
       "      <th></th>\n",
       "      <th>label</th>\n",
       "      <th>message</th>\n",
       "      <th>length</th>\n",
       "    </tr>\n",
       "  </thead>\n",
       "  <tbody>\n",
       "    <tr>\n",
       "      <th>0</th>\n",
       "      <td>ham</td>\n",
       "      <td>Go until jurong point, crazy.. Available only ...</td>\n",
       "      <td>111</td>\n",
       "    </tr>\n",
       "    <tr>\n",
       "      <th>1</th>\n",
       "      <td>ham</td>\n",
       "      <td>Ok lar... Joking wif u oni...</td>\n",
       "      <td>29</td>\n",
       "    </tr>\n",
       "    <tr>\n",
       "      <th>2</th>\n",
       "      <td>spam</td>\n",
       "      <td>Free entry in 2 a wkly comp to win FA Cup fina...</td>\n",
       "      <td>155</td>\n",
       "    </tr>\n",
       "    <tr>\n",
       "      <th>3</th>\n",
       "      <td>ham</td>\n",
       "      <td>U dun say so early hor... U c already then say...</td>\n",
       "      <td>49</td>\n",
       "    </tr>\n",
       "    <tr>\n",
       "      <th>4</th>\n",
       "      <td>ham</td>\n",
       "      <td>Nah I don't think he goes to usf, he lives aro...</td>\n",
       "      <td>61</td>\n",
       "    </tr>\n",
       "  </tbody>\n",
       "</table>\n",
       "</div>"
      ],
      "text/plain": [
       "  label                                            message  length\n",
       "0   ham  Go until jurong point, crazy.. Available only ...     111\n",
       "1   ham                      Ok lar... Joking wif u oni...      29\n",
       "2  spam  Free entry in 2 a wkly comp to win FA Cup fina...     155\n",
       "3   ham  U dun say so early hor... U c already then say...      49\n",
       "4   ham  Nah I don't think he goes to usf, he lives aro...      61"
      ]
     },
     "execution_count": 26,
     "metadata": {},
     "output_type": "execute_result"
    }
   ],
   "source": [
    "messages.head()"
   ]
  },
  {
   "cell_type": "markdown",
   "metadata": {},
   "source": [
    "In the code below, we create a function that \"tokenizes\" each message. "
   ]
  },
  {
   "cell_type": "code",
   "execution_count": 27,
   "metadata": {},
   "outputs": [],
   "source": [
    "regex = re.compile('[%s]' % re.escape(string.punctuation))\n",
    "exclude = set(stopwords.words('english'))\n",
    " \n",
    "def text_tokenize(m):\n",
    "    m1 = regex.sub('', m)\n",
    "    return [word for word in m1.lower().split() if word not in exclude]"
   ]
  },
  {
   "cell_type": "code",
   "execution_count": 31,
   "metadata": {},
   "outputs": [
    {
     "data": {
      "text/plain": [
       "0    [go, jurong, point, crazy, available, bugis, n...\n",
       "1                       [ok, lar, joking, wif, u, oni]\n",
       "2    [free, entry, 2, wkly, comp, win, fa, cup, fin...\n",
       "3        [u, dun, say, early, hor, u, c, already, say]\n",
       "4    [nah, dont, think, goes, usf, lives, around, t...\n",
       "Name: message, dtype: object"
      ]
     },
     "execution_count": 31,
     "metadata": {},
     "output_type": "execute_result"
    }
   ],
   "source": [
    "# Just to see how the above function works\n",
    "messages[\"message\"].head(5).apply(text_tokenize)"
   ]
  },
  {
   "cell_type": "code",
   "execution_count": 49,
   "metadata": {},
   "outputs": [],
   "source": [
    "bow_transformer = CountVectorizer(analyzer=text_tokenize)"
   ]
  },
  {
   "cell_type": "code",
   "execution_count": 50,
   "metadata": {},
   "outputs": [
    {
     "data": {
      "text/plain": [
       "CountVectorizer(analyzer=<function text_tokenize at 0x0000012775A5DA68>,\n",
       "                binary=False, decode_error='strict',\n",
       "                dtype=<class 'numpy.int64'>, encoding='utf-8', input='content',\n",
       "                lowercase=True, max_df=1.0, max_features=None, min_df=1,\n",
       "                ngram_range=(1, 1), preprocessor=None, stop_words=None,\n",
       "                strip_accents=None, token_pattern='(?u)\\\\b\\\\w\\\\w+\\\\b',\n",
       "                tokenizer=None, vocabulary=None)"
      ]
     },
     "execution_count": 50,
     "metadata": {},
     "output_type": "execute_result"
    }
   ],
   "source": [
    "bow_transformer.fit(messages[\"message\"])"
   ]
  },
  {
   "cell_type": "code",
   "execution_count": 51,
   "metadata": {},
   "outputs": [
    {
     "name": "stdout",
     "output_type": "stream",
     "text": [
      "9530\n"
     ]
    }
   ],
   "source": [
    "print(len(bow_transformer.vocabulary_))"
   ]
  },
  {
   "cell_type": "code",
   "execution_count": 52,
   "metadata": {},
   "outputs": [
    {
     "data": {
      "text/plain": [
       "dict"
      ]
     },
     "execution_count": 52,
     "metadata": {},
     "output_type": "execute_result"
    }
   ],
   "source": [
    "type(bow_transformer.vocabulary_)"
   ]
  },
  {
   "cell_type": "code",
   "execution_count": 53,
   "metadata": {},
   "outputs": [
    {
     "data": {
      "text/plain": [
       "{'go': 3786,\n",
       " 'jurong': 4696,\n",
       " 'point': 6445,\n",
       " 'crazy': 2485,\n",
       " 'available': 1389,\n",
       " 'bugis': 1860,\n",
       " 'n': 5686,\n",
       " 'great': 3883,\n",
       " 'world': 9208,\n",
       " 'la': 4858,\n",
       " 'e': 3016,\n",
       " 'buffet': 1858,\n",
       " 'cine': 2200,\n",
       " 'got': 3843,\n",
       " 'amore': 1156,\n",
       " 'wat': 8969,\n",
       " 'ok': 6006,\n",
       " 'lar': 4897,\n",
       " 'joking': 4664,\n",
       " 'wif': 9103,\n",
       " 'u': 8626,\n",
       " 'oni': 6038,\n",
       " 'free': 3571,\n",
       " 'entry': 3152,\n",
       " '2': 416,\n",
       " 'wkly': 9160,\n",
       " 'comp': 2316,\n",
       " 'win': 9117,\n",
       " 'fa': 3290,\n",
       " 'cup': 2541,\n",
       " 'final': 3415,\n",
       " 'tkts': 8398,\n",
       " '21st': 436,\n",
       " 'may': 5345,\n",
       " '2005': 423,\n",
       " 'text': 8233,\n",
       " '87121': 849,\n",
       " 'receive': 6848,\n",
       " 'questionstd': 6738,\n",
       " 'txt': 8610,\n",
       " 'ratetcs': 6791,\n",
       " 'apply': 1242,\n",
       " '08452810075over18s': 72,\n",
       " 'dun': 3002,\n",
       " 'say': 7208,\n",
       " 'early': 3023,\n",
       " 'hor': 4219,\n",
       " 'c': 1910,\n",
       " 'already': 1129,\n",
       " 'nah': 5693,\n",
       " 'dont': 2907,\n",
       " 'think': 8309,\n",
       " 'goes': 3800,\n",
       " 'usf': 8760,\n",
       " 'lives': 5060,\n",
       " 'around': 1293,\n",
       " 'though': 8328,\n",
       " 'freemsg': 3579,\n",
       " 'hey': 4114,\n",
       " 'darling': 2605,\n",
       " '3': 527,\n",
       " 'weeks': 9023,\n",
       " 'word': 9194,\n",
       " 'back': 1442,\n",
       " 'id': 4340,\n",
       " 'like': 5010,\n",
       " 'fun': 3646,\n",
       " 'still': 7875,\n",
       " 'tb': 8163,\n",
       " 'xxx': 9334,\n",
       " 'std': 7850,\n",
       " 'chgs': 2145,\n",
       " 'send': 7303,\n",
       " '£150': 9478,\n",
       " 'rcv': 6803,\n",
       " 'even': 3199,\n",
       " 'brother': 1826,\n",
       " 'speak': 7721,\n",
       " 'treat': 8535,\n",
       " 'aids': 1075,\n",
       " 'patent': 6238,\n",
       " 'per': 6280,\n",
       " 'request': 6961,\n",
       " 'melle': 5388,\n",
       " 'oru': 6102,\n",
       " 'minnaminunginte': 5471,\n",
       " 'nurungu': 5933,\n",
       " 'vettam': 8825,\n",
       " 'set': 7332,\n",
       " 'callertune': 1946,\n",
       " 'callers': 1945,\n",
       " 'press': 6575,\n",
       " '9': 887,\n",
       " 'copy': 2421,\n",
       " 'friends': 3604,\n",
       " 'winner': 9128,\n",
       " 'valued': 8796,\n",
       " 'network': 5769,\n",
       " 'customer': 2554,\n",
       " 'selected': 7289,\n",
       " 'receivea': 6849,\n",
       " '£900': 9519,\n",
       " 'prize': 6609,\n",
       " 'reward': 7020,\n",
       " 'claim': 2206,\n",
       " 'call': 1927,\n",
       " '09061701461': 218,\n",
       " 'code': 2267,\n",
       " 'kl341': 4813,\n",
       " 'valid': 8792,\n",
       " '12': 324,\n",
       " 'hours': 4238,\n",
       " 'mobile': 5530,\n",
       " '11': 313,\n",
       " 'months': 5575,\n",
       " 'r': 6752,\n",
       " 'entitled': 3149,\n",
       " 'update': 8715,\n",
       " 'latest': 4914,\n",
       " 'colour': 2290,\n",
       " 'mobiles': 5531,\n",
       " 'camera': 1963,\n",
       " 'co': 2256,\n",
       " '08002986030': 57,\n",
       " 'im': 4370,\n",
       " 'gonna': 3817,\n",
       " 'home': 4185,\n",
       " 'soon': 7671,\n",
       " 'want': 8948,\n",
       " 'talk': 8129,\n",
       " 'stuff': 7949,\n",
       " 'anymore': 1209,\n",
       " 'tonight': 8457,\n",
       " 'k': 4703,\n",
       " 'ive': 4568,\n",
       " 'cried': 2502,\n",
       " 'enough': 3140,\n",
       " 'today': 8415,\n",
       " 'six': 7523,\n",
       " 'chances': 2082,\n",
       " 'cash': 2025,\n",
       " '100': 293,\n",
       " '20000': 420,\n",
       " 'pounds': 6512,\n",
       " 'csh11': 2519,\n",
       " '87575': 853,\n",
       " 'cost': 2434,\n",
       " '150pday': 352,\n",
       " '6days': 736,\n",
       " '16': 376,\n",
       " 'tsandcs': 8570,\n",
       " 'reply': 6953,\n",
       " 'hl': 4151,\n",
       " '4': 587,\n",
       " 'info': 4433,\n",
       " 'urgent': 8738,\n",
       " '1': 291,\n",
       " 'week': 9018,\n",
       " 'membership': 5394,\n",
       " '£100000': 9472,\n",
       " 'jackpot': 4586,\n",
       " '81010': 799,\n",
       " 'tc': 8165,\n",
       " 'wwwdbuknet': 9277,\n",
       " 'lccltd': 4932,\n",
       " 'pobox': 6424,\n",
       " '4403ldnw1a7rw18': 608,\n",
       " 'searching': 7256,\n",
       " 'right': 7032,\n",
       " 'words': 9197,\n",
       " 'thank': 8251,\n",
       " 'breather': 1795,\n",
       " 'promise': 6648,\n",
       " 'wont': 9185,\n",
       " 'take': 8120,\n",
       " 'help': 4082,\n",
       " 'granted': 3872,\n",
       " 'fulfil': 3642,\n",
       " 'wonderful': 9182,\n",
       " 'blessing': 1666,\n",
       " 'times': 8373,\n",
       " 'date': 2614,\n",
       " 'sunday': 8017,\n",
       " 'xxxmobilemovieclub': 9335,\n",
       " 'use': 8754,\n",
       " 'credit': 2492,\n",
       " 'click': 2228,\n",
       " 'wap': 8953,\n",
       " 'link': 5033,\n",
       " 'next': 5788,\n",
       " 'message': 5419,\n",
       " 'httpwap': 4268,\n",
       " 'xxxmobilemovieclubcomnqjkgighjjgcbl': 9336,\n",
       " 'oh': 5999,\n",
       " 'kim': 4780,\n",
       " 'watching': 8974,\n",
       " 'eh': 3073,\n",
       " 'remember': 6920,\n",
       " 'spell': 7737,\n",
       " 'name': 5699,\n",
       " 'yes': 9374,\n",
       " 'v': 8784,\n",
       " 'naughty': 5725,\n",
       " 'make': 5263,\n",
       " 'wet': 9060,\n",
       " 'fine': 3423,\n",
       " 'that\\x92s': 8269,\n",
       " 'way': 8985,\n",
       " 'feel': 3367,\n",
       " 'gota': 3844,\n",
       " 'b': 1421,\n",
       " 'england': 3131,\n",
       " 'macedonia': 5225,\n",
       " 'miss': 5490,\n",
       " 'goalsteam': 3792,\n",
       " 'news': 5783,\n",
       " 'ur': 8735,\n",
       " 'national': 5718,\n",
       " 'team': 8179,\n",
       " '87077': 848,\n",
       " 'eg': 3064,\n",
       " 'trywales': 8568,\n",
       " 'scotland': 7235,\n",
       " '4txtú120': 655,\n",
       " 'poboxox36504w45wq': 6436,\n",
       " 'seriously': 7325,\n",
       " 'i‘m': 4578,\n",
       " 'going': 3805,\n",
       " 'try': 8565,\n",
       " 'ha': 3955,\n",
       " 'ü': 9523,\n",
       " 'pay': 6249,\n",
       " 'first': 3443,\n",
       " 'da': 2570,\n",
       " 'stock': 7879,\n",
       " 'comin': 2306,\n",
       " 'aft': 1037,\n",
       " 'finish': 3429,\n",
       " 'lunch': 5191,\n",
       " 'str': 7906,\n",
       " 'lor': 5116,\n",
       " 'ard': 1269,\n",
       " 'smth': 7609,\n",
       " 'ffffffffff': 3385,\n",
       " 'alright': 1131,\n",
       " 'meet': 5373,\n",
       " 'sooner': 7673,\n",
       " 'forced': 3521,\n",
       " 'eat': 3036,\n",
       " 'slice': 7558,\n",
       " 'really': 6828,\n",
       " 'hungry': 4296,\n",
       " 'tho': 8324,\n",
       " 'sucks': 7987,\n",
       " 'mark': 5299,\n",
       " 'getting': 3745,\n",
       " 'worried': 9214,\n",
       " 'knows': 4825,\n",
       " 'sick': 7466,\n",
       " 'turn': 8591,\n",
       " 'pizza': 6374,\n",
       " 'lol': 5093,\n",
       " 'always': 1141,\n",
       " 'convincing': 2407,\n",
       " 'catch': 2037,\n",
       " 'bus': 1880,\n",
       " 'frying': 3630,\n",
       " 'egg': 3068,\n",
       " 'tea': 8173,\n",
       " 'eating': 3039,\n",
       " 'moms': 5554,\n",
       " 'left': 4954,\n",
       " 'dinner': 2814,\n",
       " 'love': 5142,\n",
       " 'amp': 1158,\n",
       " 'packing': 6161,\n",
       " 'car': 1991,\n",
       " 'ill': 4366,\n",
       " 'let': 4977,\n",
       " 'know': 4820,\n",
       " 'theres': 8294,\n",
       " 'room': 7078,\n",
       " 'ahhh': 1066,\n",
       " 'work': 9200,\n",
       " 'vaguely': 8787,\n",
       " 'wait': 8918,\n",
       " 'thats': 8268,\n",
       " 'clear': 2222,\n",
       " 'sure': 8045,\n",
       " 'sarcastic': 7182,\n",
       " 'x': 9314,\n",
       " 'doesnt': 2878,\n",
       " 'live': 5056,\n",
       " 'us': 8750,\n",
       " 'yeah': 9361,\n",
       " 'apologetic': 1230,\n",
       " 'fallen': 3317,\n",
       " 'actin': 975,\n",
       " 'spoilt': 7765,\n",
       " 'child': 2161,\n",
       " 'caught': 2041,\n",
       " 'till': 8367,\n",
       " 'badly': 1448,\n",
       " 'cheers': 2127,\n",
       " 'tell': 8198,\n",
       " 'anything': 1215,\n",
       " 'fear': 3359,\n",
       " 'fainting': 3307,\n",
       " 'housework': 4243,\n",
       " 'quick': 6739,\n",
       " 'cuppa': 2543,\n",
       " 'thanks': 8252,\n",
       " 'subscription': 7976,\n",
       " 'ringtone': 7041,\n",
       " 'uk': 8642,\n",
       " 'charged': 2094,\n",
       " '£5month': 9511,\n",
       " 'please': 6403,\n",
       " 'confirm': 2362,\n",
       " 'replying': 6955,\n",
       " 'yup': 9445,\n",
       " 'look': 5104,\n",
       " 'timings': 8380,\n",
       " 'msg': 5618,\n",
       " 'xuhui': 9330,\n",
       " 'learn': 4943,\n",
       " '2nd': 501,\n",
       " 'lesson': 4975,\n",
       " '8am': 876,\n",
       " 'oops': 6056,\n",
       " 'roommates': 7081,\n",
       " 'done': 2904,\n",
       " 'see': 7273,\n",
       " 'letter': 4979,\n",
       " 'decide': 2669,\n",
       " 'hello': 4075,\n",
       " 'hows': 4250,\n",
       " 'saturday': 7198,\n",
       " 'texting': 8241,\n",
       " 'youd': 9408,\n",
       " 'decided': 2670,\n",
       " 'tomo': 8442,\n",
       " 'trying': 8567,\n",
       " 'invite': 4497,\n",
       " 'pls': 6411,\n",
       " 'ahead': 1064,\n",
       " 'watts': 8983,\n",
       " 'wanted': 8950,\n",
       " 'weekend': 9020,\n",
       " 'abiola': 927,\n",
       " 'forget': 3527,\n",
       " 'need': 5744,\n",
       " 'crave': 2482,\n",
       " 'sweet': 8076,\n",
       " 'arabian': 1266,\n",
       " 'steed': 7857,\n",
       " 'mmmmmm': 5520,\n",
       " 'yummy': 9440,\n",
       " '07732584351': 29,\n",
       " 'rodger': 7067,\n",
       " 'burns': 1877,\n",
       " 'tried': 8544,\n",
       " 'sms': 7603,\n",
       " 'nokia': 5853,\n",
       " 'camcorder': 1961,\n",
       " '08000930705': 53,\n",
       " 'delivery': 2708,\n",
       " 'tomorrow': 8445,\n",
       " 'seeing': 7275,\n",
       " 'hope': 4209,\n",
       " 'man': 5273,\n",
       " 'well': 9037,\n",
       " 'endowed': 3121,\n",
       " 'ltgt': 5176,\n",
       " 'inches': 4401,\n",
       " 'callsmessagesmissed': 1954,\n",
       " 'calls': 1952,\n",
       " 'didnt': 2782,\n",
       " 'get': 3737,\n",
       " 'hep': 4096,\n",
       " 'immunisation': 4382,\n",
       " 'nigeria': 5801,\n",
       " 'fair': 3308,\n",
       " 'hopefully': 4213,\n",
       " 'tyler': 8620,\n",
       " 'cant': 1980,\n",
       " 'could': 2446,\n",
       " 'maybe': 5347,\n",
       " 'ask': 1321,\n",
       " 'bit': 1641,\n",
       " 'stubborn': 7937,\n",
       " 'hospital': 4226,\n",
       " 'kept': 4751,\n",
       " 'telling': 8199,\n",
       " 'weak': 8991,\n",
       " 'sucker': 7985,\n",
       " 'hospitals': 4227,\n",
       " 'suckers': 7986,\n",
       " 'thinked': 8310,\n",
       " 'time': 8369,\n",
       " 'saw': 7207,\n",
       " 'class': 2214,\n",
       " 'gram': 3864,\n",
       " 'usually': 8771,\n",
       " 'runs': 7125,\n",
       " 'half': 3972,\n",
       " 'eighth': 3076,\n",
       " 'smarter': 7581,\n",
       " 'gets': 3741,\n",
       " 'almost': 1125,\n",
       " 'whole': 9092,\n",
       " 'second': 7260,\n",
       " 'fyi': 3661,\n",
       " 'ride': 7031,\n",
       " 'morning': 5584,\n",
       " 'hes': 4109,\n",
       " 'crashing': 2481,\n",
       " 'place': 6376,\n",
       " 'wow': 9233,\n",
       " 'never': 5774,\n",
       " 'realized': 6826,\n",
       " 'embarassed': 3101,\n",
       " 'accomodations': 955,\n",
       " 'thought': 8329,\n",
       " 'liked': 5011,\n",
       " 'since': 7493,\n",
       " 'best': 1595,\n",
       " 'seemed': 7279,\n",
       " 'happy': 4006,\n",
       " 'cave': 2045,\n",
       " 'sorry': 7683,\n",
       " 'give': 3767,\n",
       " 'offered': 5979,\n",
       " 'embarassing': 3102,\n",
       " 'ac': 941,\n",
       " 'sptv': 7788,\n",
       " 'new': 5778,\n",
       " 'jersey': 4630,\n",
       " 'devils': 2761,\n",
       " 'detroit': 2755,\n",
       " 'red': 6872,\n",
       " 'wings': 9126,\n",
       " 'play': 6392,\n",
       " 'ice': 4335,\n",
       " 'hockey': 4169,\n",
       " 'correct': 2426,\n",
       " 'incorrect': 4412,\n",
       " 'end': 3116,\n",
       " 'mallika': 5272,\n",
       " 'sherawat': 7386,\n",
       " 'yesterday': 9389,\n",
       " 'find': 3420,\n",
       " 'lturlgt': 5179,\n",
       " 'congrats': 2369,\n",
       " 'year': 9363,\n",
       " 'special': 7723,\n",
       " 'cinema': 2201,\n",
       " 'pass': 6226,\n",
       " '09061209465': 213,\n",
       " 'suprman': 8043,\n",
       " 'matrix3': 5332,\n",
       " 'starwars3': 7837,\n",
       " 'etc': 3185,\n",
       " 'bx420ip45we': 1903,\n",
       " '150pm': 353,\n",
       " 'later': 4912,\n",
       " 'meeting': 5376,\n",
       " 'reached': 6809,\n",
       " 'yesgauti': 9382,\n",
       " 'sehwag': 7286,\n",
       " 'odi': 5972,\n",
       " 'series': 7323,\n",
       " 'pick': 6344,\n",
       " 'burger': 1872,\n",
       " 'move': 5602,\n",
       " 'pain': 6168,\n",
       " 'killing': 4777,\n",
       " 'good': 3819,\n",
       " 'joke': 4659,\n",
       " 'girls': 3764,\n",
       " 'situation': 7519,\n",
       " 'seekers': 7276,\n",
       " 'part': 6213,\n",
       " 'checking': 2121,\n",
       " 'iq': 4512,\n",
       " 'took': 8464,\n",
       " 'forever': 3524,\n",
       " 'come': 2298,\n",
       " 'double': 2924,\n",
       " 'check': 2117,\n",
       " 'hair': 3967,\n",
       " 'dresser': 2959,\n",
       " 'said': 7150,\n",
       " 'wun': 9263,\n",
       " 'cut': 2558,\n",
       " 'short': 7427,\n",
       " 'nice': 5794,\n",
       " 'pleased': 6404,\n",
       " 'advise': 1020,\n",
       " 'following': 3502,\n",
       " 'recent': 6852,\n",
       " 'review': 7018,\n",
       " 'mob': 5528,\n",
       " 'awarded': 1408,\n",
       " '£1500': 9479,\n",
       " 'bonus': 1710,\n",
       " '09066364589': 262,\n",
       " 'song': 7665,\n",
       " 'dedicated': 2680,\n",
       " 'day': 2627,\n",
       " 'dedicate': 2679,\n",
       " 'valuable': 8794,\n",
       " 'frnds': 3614,\n",
       " 'rply': 7098,\n",
       " 'complimentary': 2335,\n",
       " 'trip': 8545,\n",
       " 'eurodisinc': 3192,\n",
       " 'trav': 8527,\n",
       " 'acoentry41': 970,\n",
       " '£1000': 9470,\n",
       " 'dis': 2827,\n",
       " '186£150morefrmmob': 385,\n",
       " 'shracomorsglsuplt10': 7451,\n",
       " 'ls1': 5165,\n",
       " '3aj': 560,\n",
       " 'hear': 4050,\n",
       " 'divorce': 2856,\n",
       " 'barbie': 1479,\n",
       " 'comes': 2302,\n",
       " 'kens': 4749,\n",
       " 'plane': 6383,\n",
       " 'month': 5571,\n",
       " 'wah': 8911,\n",
       " 'lucky': 5184,\n",
       " 'save': 7203,\n",
       " 'money': 5559,\n",
       " 'hee': 4066,\n",
       " 'finished': 3431,\n",
       " 'hi': 4120,\n",
       " 'babe': 1430,\n",
       " 'wanna': 8946,\n",
       " 'something': 7651,\n",
       " 'xx': 9331,\n",
       " 'kkwhere': 4810,\n",
       " 'youhow': 9411,\n",
       " 'performed': 6287,\n",
       " 'waiting': 8922,\n",
       " 'machan': 5227,\n",
       " 'cool': 2413,\n",
       " 'gentleman': 3728,\n",
       " 'dignity': 2804,\n",
       " 'respect': 6982,\n",
       " 'peoples': 6279,\n",
       " 'much': 5638,\n",
       " 'shy': 7461,\n",
       " 'pa': 6156,\n",
       " 'operate': 6063,\n",
       " 'looking': 5108,\n",
       " 'job': 4645,\n",
       " 'tas': 8147,\n",
       " 'earn': 3024,\n",
       " 'ah': 1062,\n",
       " 'stop': 7889,\n",
       " 'urgnt': 8742,\n",
       " 'real': 6819,\n",
       " 'yo': 9399,\n",
       " 'tickets': 8358,\n",
       " 'one': 6034,\n",
       " 'jacket': 4585,\n",
       " 'used': 8755,\n",
       " 'multis': 5649,\n",
       " 'started': 7830,\n",
       " 'requests': 6962,\n",
       " 'came': 1962,\n",
       " 'bed': 1549,\n",
       " 'coins': 2274,\n",
       " 'factory': 3298,\n",
       " 'gotta': 3848,\n",
       " 'nitros': 5825,\n",
       " 'ela': 3081,\n",
       " 'kanoil': 4725,\n",
       " 'download': 2932,\n",
       " 'wen': 9043,\n",
       " 'don‘t': 2914,\n",
       " 'stand': 7818,\n",
       " 'close': 2235,\n",
       " 'you‘ll': 9432,\n",
       " 'another': 1193,\n",
       " 'night': 5803,\n",
       " 'spent': 7742,\n",
       " 'late': 4907,\n",
       " 'afternoon': 1039,\n",
       " 'casualty': 2035,\n",
       " 'means': 5359,\n",
       " 'havent': 4031,\n",
       " 'stuff42moro': 7950,\n",
       " 'includes': 4405,\n",
       " 'sheets': 7381,\n",
       " 'smile': 7590,\n",
       " 'pleasure': 6406,\n",
       " 'trouble': 8551,\n",
       " 'pours': 6514,\n",
       " 'rain': 6764,\n",
       " 'sum1': 8008,\n",
       " 'hurts': 4311,\n",
       " 'becoz': 1547,\n",
       " 'someone': 7644,\n",
       " 'loves': 5152,\n",
       " 'smiling': 7594,\n",
       " 'service': 7328,\n",
       " 'representative': 6959,\n",
       " '0800': 49,\n",
       " '169': 378,\n",
       " '6031': 704,\n",
       " '10am9pm': 307,\n",
       " 'guaranteed': 3922,\n",
       " '£5000': 9506,\n",
       " 'planning': 6388,\n",
       " 'buy': 1892,\n",
       " 'lido': 4992,\n",
       " '530': 676,\n",
       " 'show': 7442,\n",
       " 'collected': 2283,\n",
       " 'simply': 7490,\n",
       " 'password': 6234,\n",
       " 'mix': 5510,\n",
       " '85069': 834,\n",
       " 'verify': 8821,\n",
       " 'usher': 8762,\n",
       " 'britney': 1816,\n",
       " 'fml': 3492,\n",
       " 'po': 6422,\n",
       " 'box': 1746,\n",
       " '5249': 673,\n",
       " 'mk17': 5513,\n",
       " '92h': 892,\n",
       " '450ppw': 619,\n",
       " 'telugu': 8204,\n",
       " 'moviewat': 5607,\n",
       " 'abt': 936,\n",
       " 'loads': 5070,\n",
       " 'loans': 5072,\n",
       " 'wk': 9156,\n",
       " 'hols': 4183,\n",
       " 'run': 7122,\n",
       " 'forgot': 3532,\n",
       " 'hairdressers': 3969,\n",
       " 'appointment': 1246,\n",
       " 'four': 3552,\n",
       " 'shower': 7444,\n",
       " 'beforehand': 1564,\n",
       " 'cause': 2042,\n",
       " 'prob': 6615,\n",
       " 'coffee': 2269,\n",
       " 'animation': 1180,\n",
       " 'nothing': 5887,\n",
       " 'else': 3095,\n",
       " 'okay': 6007,\n",
       " 'price': 6588,\n",
       " 'long': 5100,\n",
       " 'legal': 4957,\n",
       " 'ave': 1395,\n",
       " 'ams': 1162,\n",
       " 'gone': 3814,\n",
       " '4the': 652,\n",
       " 'driving': 2968,\n",
       " 'test': 8227,\n",
       " 'yet': 9390,\n",
       " 'youre': 9421,\n",
       " 'mean': 5355,\n",
       " 'guess': 3930,\n",
       " 'gave': 3696,\n",
       " 'boston': 1732,\n",
       " 'men': 5399,\n",
       " 'changed': 2084,\n",
       " 'search': 7255,\n",
       " 'location': 5075,\n",
       " 'nyc': 5943,\n",
       " 'cuz': 2565,\n",
       " 'signin': 7478,\n",
       " 'page': 6164,\n",
       " 'says': 7213,\n",
       " 'umma': 8651,\n",
       " 'life': 4995,\n",
       " 'vava': 8808,\n",
       " 'lot': 5126,\n",
       " 'dear': 2651,\n",
       " 'wishes': 9141,\n",
       " 'birthday': 1639,\n",
       " 'making': 5267,\n",
       " 'truly': 8559,\n",
       " 'memorable': 5396,\n",
       " 'aight': 1077,\n",
       " 'hit': 4142,\n",
       " 'would': 9229,\n",
       " 'ip': 4505,\n",
       " 'address': 994,\n",
       " 'considering': 2380,\n",
       " 'computer': 2342,\n",
       " 'isnt': 4531,\n",
       " 'minecraft': 5467,\n",
       " 'server': 7327,\n",
       " 'grumpy': 3914,\n",
       " 'old': 6024,\n",
       " 'people': 6278,\n",
       " 'mom': 5551,\n",
       " 'better': 1603,\n",
       " 'lying': 5207,\n",
       " 'jokes': 4661,\n",
       " 'worry': 9217,\n",
       " 'busy': 1886,\n",
       " 'plural': 6416,\n",
       " 'noun': 5896,\n",
       " 'research': 6968,\n",
       " 'dinnermsg': 2815,\n",
       " 'cos': 2432,\n",
       " 'things': 8308,\n",
       " 'scared': 7220,\n",
       " 'mah': 5251,\n",
       " 'loud': 5137,\n",
       " 'gent': 3726,\n",
       " 'contact': 2385,\n",
       " 'last': 4904,\n",
       " 'weekends': 9021,\n",
       " 'draw': 2946,\n",
       " 'shows': 7450,\n",
       " '09064012160': 237,\n",
       " 'k52': 4704,\n",
       " '12hrs': 335,\n",
       " '150ppm': 363,\n",
       " 'wa': 8906,\n",
       " 'openin': 6060,\n",
       " 'sentence': 7316,\n",
       " 'formal': 3535,\n",
       " 'anyway': 1219,\n",
       " 'juz': 4702,\n",
       " 'tt': 8577,\n",
       " 'eatin': 3038,\n",
       " 'puttin': 6715,\n",
       " 'weighthaha': 9028,\n",
       " 'anythin': 1214,\n",
       " 'happened': 3998,\n",
       " 'entered': 3142,\n",
       " 'cabin': 1913,\n",
       " 'bday': 1532,\n",
       " 'boss': 1731,\n",
       " 'felt': 3377,\n",
       " 'askd': 1322,\n",
       " 'invited': 4498,\n",
       " 'apartment': 1224,\n",
       " 'went': 9046,\n",
       " 'specially': 7728,\n",
       " 'holiday': 4179,\n",
       " 'flights': 3469,\n",
       " 'inc': 4399,\n",
       " 'operator': 6064,\n",
       " '0871277810910pmin': 122,\n",
       " '18': 381,\n",
       " 'goodo': 3833,\n",
       " 'must': 5669,\n",
       " 'friday': 3597,\n",
       " 'eggpotato': 3069,\n",
       " 'ratio': 6793,\n",
       " 'tortilla': 8483,\n",
       " 'needed': 5746,\n",
       " 'hmmmy': 4164,\n",
       " 'uncle': 8658,\n",
       " 'informed': 4437,\n",
       " 'paying': 6255,\n",
       " 'school': 7226,\n",
       " 'directly': 2821,\n",
       " 'food': 3510,\n",
       " 'private': 6606,\n",
       " '2004': 422,\n",
       " 'account': 959,\n",
       " 'statement': 7840,\n",
       " '07742676969': 31,\n",
       " '786': 766,\n",
       " 'unredeemed': 8700,\n",
       " 'points': 6446,\n",
       " '08719180248': 170,\n",
       " 'identifier': 4347,\n",
       " '45239': 621,\n",
       " 'expires': 3268,\n",
       " '£2000': 9491,\n",
       " 'caller': 1944,\n",
       " '5903': 681,\n",
       " 'landline': 4884,\n",
       " '09064019788': 243,\n",
       " 'box42wr29c': 1758,\n",
       " 'applespairsall': 1240,\n",
       " 'malarky': 5269,\n",
       " 'todays': 8421,\n",
       " 'voda': 8875,\n",
       " 'numbers': 5929,\n",
       " 'ending': 3118,\n",
       " '7548': 761,\n",
       " '350': 550,\n",
       " 'award': 1407,\n",
       " 'match': 5320,\n",
       " '08712300220': 104,\n",
       " 'quoting': 6751,\n",
       " '4041': 592,\n",
       " 'standard': 7819,\n",
       " 'rates': 6790,\n",
       " 'app': 1234,\n",
       " 'sao': 7176,\n",
       " 'mu': 5637,\n",
       " 'predict': 6549,\n",
       " 'üll': 9524,\n",
       " 'buying': 1895,\n",
       " 'knowyetunde': 4828,\n",
       " 'hasnt': 4018,\n",
       " 'sent': 7314,\n",
       " 'bother': 1734,\n",
       " 'sending': 7306,\n",
       " 'involve': 4502,\n",
       " 'shouldnt': 7436,\n",
       " 'imposed': 4388,\n",
       " 'apologise': 1231,\n",
       " 'girl': 3760,\n",
       " 'del': 2698,\n",
       " 'bak': 1456,\n",
       " 'sum': 8007,\n",
       " 'lucyxx': 5188,\n",
       " 'kkhow': 4804,\n",
       " 'tmorrowpls': 8403,\n",
       " 'accomodate': 954,\n",
       " 'answer': 1196,\n",
       " 'question': 6735,\n",
       " 'sunshine': 8024,\n",
       " 'quiz': 6746,\n",
       " 'q': 6721,\n",
       " 'top': 8473,\n",
       " 'sony': 7668,\n",
       " 'dvd': 3011,\n",
       " 'player': 6394,\n",
       " 'country': 2453,\n",
       " 'algarve': 1106,\n",
       " 'ansr': 1195,\n",
       " '82277': 805,\n",
       " 'sptyrone': 7789,\n",
       " 'laid': 4875,\n",
       " 'dogging': 2885,\n",
       " 'locations': 5076,\n",
       " 'direct': 2820,\n",
       " 'join': 4654,\n",
       " 'uks': 8645,\n",
       " 'largest': 4901,\n",
       " 'bt': 1843,\n",
       " 'txting': 8615,\n",
       " 'gravel': 3877,\n",
       " '69888': 730,\n",
       " 'nt': 5917,\n",
       " 'ec2a': 3041,\n",
       " '31pmsg150p': 543,\n",
       " 'haf': 3961,\n",
       " 'msn': 5630,\n",
       " 'yijuehotmailcom': 9396,\n",
       " 'rooms': 7082,\n",
       " 'befor': 1563,\n",
       " 'activities': 981,\n",
       " 'youll': 9415,\n",
       " 'msgs': 5622,\n",
       " 'chat': 2106,\n",
       " 'svc': 8061,\n",
       " 'hardcore': 4008,\n",
       " 'services': 7329,\n",
       " '69988': 734,\n",
       " 'age': 1047,\n",
       " 'yr': 9436,\n",
       " 'lazy': 4931,\n",
       " 'type': 8622,\n",
       " 'lect': 4951,\n",
       " 'pouch': 6509,\n",
       " 'sir': 7505,\n",
       " 'mail': 5254,\n",
       " 'swt': 8090,\n",
       " 'nver': 5938,\n",
       " 'tired': 8384,\n",
       " 'little': 5055,\n",
       " 'lovable': 5141,\n",
       " 'persons': 6305,\n",
       " 'cozsomtimes': 2467,\n",
       " 'occupy': 5965,\n",
       " 'biggest': 1620,\n",
       " 'hearts': 4058,\n",
       " 'gud': 3924,\n",
       " 'ni8': 5791,\n",
       " 'open': 6057,\n",
       " 'ya': 9345,\n",
       " 'dot': 2923,\n",
       " 'whats': 9069,\n",
       " 'staff': 7809,\n",
       " 'taking': 8126,\n",
       " 'replied': 6951,\n",
       " 'randy': 6783,\n",
       " 'sexy': 7345,\n",
       " 'female': 3378,\n",
       " 'local': 5074,\n",
       " 'luv': 5197,\n",
       " 'netcollex': 5765,\n",
       " 'ltd': 5171,\n",
       " '08700621170150p': 74,\n",
       " 'ummmawill': 8652,\n",
       " 'inour': 4454,\n",
       " 'begin': 1569,\n",
       " 'qatar': 6722,\n",
       " 'pray': 6542,\n",
       " 'hard': 4007,\n",
       " 'ki': 4765,\n",
       " 'deleted': 2702,\n",
       " 'sindu': 7495,\n",
       " 'birla': 1635,\n",
       " 'soft': 7631,\n",
       " 'wine': 9124,\n",
       " 'flowing': 3483,\n",
       " 'nevering': 5775,\n",
       " 'thk': 8318,\n",
       " 'plaza': 6401,\n",
       " 'typical': 8625,\n",
       " 'everywhere': 3218,\n",
       " 'dirt': 2824,\n",
       " 'floor': 3477,\n",
       " 'windows': 9121,\n",
       " 'shirt': 7401,\n",
       " 'sometimes': 7655,\n",
       " 'mouth': 5601,\n",
       " 'dream': 2950,\n",
       " 'without': 9150,\n",
       " 'chores': 2187,\n",
       " 'joy': 4676,\n",
       " 'lots': 5129,\n",
       " 'tv': 8596,\n",
       " 'exist': 3252,\n",
       " 'hail': 3966,\n",
       " 'mist': 5501,\n",
       " 'become': 1545,\n",
       " 'aaooooright': 916,\n",
       " 'leaving': 4950,\n",
       " 'house': 4239,\n",
       " 'interview': 4484,\n",
       " 'boy': 1763,\n",
       " 'meare': 5362,\n",
       " 'missing': 5494,\n",
       " 'annoncement': 1186,\n",
       " 'years': 9364,\n",
       " '07046744435': 22,\n",
       " 'arrange': 1297,\n",
       " '0871277810810': 121,\n",
       " 'keep': 4742,\n",
       " 'safe': 7145,\n",
       " 'envy': 3156,\n",
       " 'everyone': 3212,\n",
       " 'sees': 7283,\n",
       " 'parentsi': 6204,\n",
       " 'hand': 3981,\n",
       " 'excited': 3240,\n",
       " 'spend': 7740,\n",
       " 'bootydelious': 1723,\n",
       " '32f': 548,\n",
       " 'inviting': 4499,\n",
       " 'friend': 3602,\n",
       " 'yes434': 9376,\n",
       " 'no434': 5832,\n",
       " 'wwwsmsacubootydelious': 9297,\n",
       " 'frnd': 3613,\n",
       " '62468': 712,\n",
       " 'bangbabes': 1470,\n",
       " 'order': 6088,\n",
       " 'content': 2389,\n",
       " 'goto': 3847,\n",
       " 'bangb': 1469,\n",
       " 'internetservice': 4483,\n",
       " 'menu': 5407,\n",
       " 'cultures': 2537,\n",
       " 'module': 5544,\n",
       " '09061701939': 220,\n",
       " 's89': 7135,\n",
       " 'avoid': 1401,\n",
       " 'missunderstding': 5499,\n",
       " 'wit': 9146,\n",
       " 'beloved': 1585,\n",
       " 'ones': 6036,\n",
       " 'escape': 3175,\n",
       " 'fancy': 3329,\n",
       " 'bridge': 1800,\n",
       " 'needs': 5750,\n",
       " 'lager': 4874,\n",
       " 'completely': 2331,\n",
       " 'formclark': 3539,\n",
       " 'also': 1135,\n",
       " 'utter': 8773,\n",
       " 'waste': 8966,\n",
       " 'axis': 1415,\n",
       " 'bank': 1472,\n",
       " 'hmmm': 4158,\n",
       " 'hop': 4208,\n",
       " 'muz': 5675,\n",
       " 'discuss': 2840,\n",
       " ...}"
      ]
     },
     "execution_count": 53,
     "metadata": {},
     "output_type": "execute_result"
    }
   ],
   "source": [
    "bow_transformer.vocabulary_\n",
    "# You'll notice that words like \"wont\" did not get removed!"
   ]
  },
  {
   "cell_type": "code",
   "execution_count": 54,
   "metadata": {},
   "outputs": [],
   "source": [
    "# To get the Bag of Words for a particular message:\n",
    "message_4 = messages[\"message\"][3]\n",
    "bow4 = bow_transformer.transform([message_4])"
   ]
  },
  {
   "cell_type": "code",
   "execution_count": 55,
   "metadata": {},
   "outputs": [
    {
     "name": "stdout",
     "output_type": "stream",
     "text": [
      "  (0, 1129)\t1\n",
      "  (0, 1910)\t1\n",
      "  (0, 3002)\t1\n",
      "  (0, 3023)\t1\n",
      "  (0, 4219)\t1\n",
      "  (0, 7208)\t2\n",
      "  (0, 8626)\t2\n"
     ]
    }
   ],
   "source": [
    "print(bow4)"
   ]
  },
  {
   "cell_type": "code",
   "execution_count": 56,
   "metadata": {},
   "outputs": [
    {
     "data": {
      "text/plain": [
       "scipy.sparse.csr.csr_matrix"
      ]
     },
     "execution_count": 56,
     "metadata": {},
     "output_type": "execute_result"
    }
   ],
   "source": [
    "type(bow4)"
   ]
  },
  {
   "cell_type": "code",
   "execution_count": 57,
   "metadata": {},
   "outputs": [
    {
     "name": "stdout",
     "output_type": "stream",
     "text": [
      "(1, 9530)\n"
     ]
    }
   ],
   "source": [
    "print(bow4.shape)"
   ]
  },
  {
   "cell_type": "code",
   "execution_count": 58,
   "metadata": {},
   "outputs": [
    {
     "data": {
      "text/plain": [
       "'u'"
      ]
     },
     "execution_count": 58,
     "metadata": {},
     "output_type": "execute_result"
    }
   ],
   "source": [
    "bow_transformer.get_feature_names()[8626]"
   ]
  },
  {
   "cell_type": "code",
   "execution_count": 59,
   "metadata": {},
   "outputs": [
    {
     "data": {
      "text/plain": [
       "'say'"
      ]
     },
     "execution_count": 59,
     "metadata": {},
     "output_type": "execute_result"
    }
   ],
   "source": [
    "bow_transformer.get_feature_names()[7208]"
   ]
  },
  {
   "cell_type": "code",
   "execution_count": 60,
   "metadata": {},
   "outputs": [
    {
     "data": {
      "text/plain": [
       "'U dun say so early hor... U c already then say...'"
      ]
     },
     "execution_count": 60,
     "metadata": {},
     "output_type": "execute_result"
    }
   ],
   "source": [
    "messages[\"message\"][3]"
   ]
  },
  {
   "cell_type": "markdown",
   "metadata": {},
   "source": [
    "Let's generate the bow for the entire DF of messages, and see how/why the entire bow counts is a \"sparse\" matrix"
   ]
  },
  {
   "cell_type": "code",
   "execution_count": 61,
   "metadata": {},
   "outputs": [],
   "source": [
    "messages_bow = bow_transformer.transform(messages[\"message\"])"
   ]
  },
  {
   "cell_type": "code",
   "execution_count": 62,
   "metadata": {},
   "outputs": [
    {
     "name": "stdout",
     "output_type": "stream",
     "text": [
      "Shape of the sparse matrix:  (5572, 9530)\n"
     ]
    }
   ],
   "source": [
    "print(\"Shape of the sparse matrix: \", messages_bow.shape)"
   ]
  },
  {
   "cell_type": "code",
   "execution_count": 63,
   "metadata": {},
   "outputs": [
    {
     "name": "stdout",
     "output_type": "stream",
     "text": [
      "Number of non-zero entries:  50101\n"
     ]
    }
   ],
   "source": [
    "print(\"Number of non-zero entries: \", messages_bow.nnz)"
   ]
  },
  {
   "cell_type": "code",
   "execution_count": 66,
   "metadata": {},
   "outputs": [
    {
     "name": "stdout",
     "output_type": "stream",
     "text": [
      "Sparcity of the sparce matrix:  0.09435010459281869 %\n"
     ]
    }
   ],
   "source": [
    "sparcity = messages_bow.nnz / (messages_bow.shape[0]*messages_bow.shape[1]) * 100\n",
    "print(\"Sparcity of the sparce matrix: \", sparcity, \"%\")"
   ]
  },
  {
   "cell_type": "markdown",
   "metadata": {},
   "source": [
    "Now, we compute the TF-IDF"
   ]
  },
  {
   "cell_type": "code",
   "execution_count": 68,
   "metadata": {},
   "outputs": [],
   "source": [
    "tfidf_transformer = TfidfTransformer()"
   ]
  },
  {
   "cell_type": "code",
   "execution_count": 69,
   "metadata": {},
   "outputs": [
    {
     "data": {
      "text/plain": [
       "TfidfTransformer(norm='l2', smooth_idf=True, sublinear_tf=False, use_idf=True)"
      ]
     },
     "execution_count": 69,
     "metadata": {},
     "output_type": "execute_result"
    }
   ],
   "source": [
    "tfidf_transformer.fit(messages_bow)"
   ]
  },
  {
   "cell_type": "code",
   "execution_count": 70,
   "metadata": {},
   "outputs": [],
   "source": [
    "tfidf4 = tfidf_transformer.transform(bow4)"
   ]
  },
  {
   "cell_type": "code",
   "execution_count": 71,
   "metadata": {},
   "outputs": [
    {
     "data": {
      "text/plain": [
       "<1x9530 sparse matrix of type '<class 'numpy.float64'>'\n",
       "\twith 7 stored elements in Compressed Sparse Row format>"
      ]
     },
     "execution_count": 71,
     "metadata": {},
     "output_type": "execute_result"
    }
   ],
   "source": [
    "tfidf4"
   ]
  },
  {
   "cell_type": "code",
   "execution_count": 72,
   "metadata": {},
   "outputs": [
    {
     "name": "stdout",
     "output_type": "stream",
     "text": [
      "  (0, 8626)\t0.31949158769666564\n",
      "  (0, 7208)\t0.5597000940482765\n",
      "  (0, 4219)\t0.46452762500729494\n",
      "  (0, 3023)\t0.33557436526898854\n",
      "  (0, 3002)\t0.30912546538910485\n",
      "  (0, 1910)\t0.2870370340589675\n",
      "  (0, 1129)\t0.27985004702413824\n"
     ]
    }
   ],
   "source": [
    "print(tfidf4)"
   ]
  },
  {
   "cell_type": "code",
   "execution_count": 85,
   "metadata": {},
   "outputs": [
    {
     "name": "stdout",
     "output_type": "stream",
     "text": [
      "[0.31949159 0.55970009 0.46452763 0.33557437 0.30912547 0.28703703\n",
      " 0.27985005]\n"
     ]
    }
   ],
   "source": [
    "print(tfidf4.data)"
   ]
  },
  {
   "cell_type": "code",
   "execution_count": 86,
   "metadata": {},
   "outputs": [
    {
     "data": {
      "text/plain": [
       "0.5597000940482765"
      ]
     },
     "execution_count": 86,
     "metadata": {},
     "output_type": "execute_result"
    }
   ],
   "source": [
    "tfidf4.data[1]"
   ]
  },
  {
   "cell_type": "code",
   "execution_count": 82,
   "metadata": {},
   "outputs": [
    {
     "data": {
      "text/plain": [
       "numpy.ndarray"
      ]
     },
     "execution_count": 82,
     "metadata": {},
     "output_type": "execute_result"
    }
   ],
   "source": [
    "type(tfidf4.data)"
   ]
  },
  {
   "cell_type": "code",
   "execution_count": 87,
   "metadata": {},
   "outputs": [
    {
     "data": {
      "text/plain": [
       "1.0"
      ]
     },
     "execution_count": 87,
     "metadata": {},
     "output_type": "execute_result"
    }
   ],
   "source": [
    "# Just checking if it's indeed a unit vector\n",
    "x = tfidf4.data\n",
    "length=0\n",
    "for num in x:\n",
    "    length+= num **2\n",
    "np.sqrt(length)\n",
    "    "
   ]
  },
  {
   "cell_type": "code",
   "execution_count": 95,
   "metadata": {},
   "outputs": [
    {
     "data": {
      "text/plain": [
       "8.239394426449646"
      ]
     },
     "execution_count": 95,
     "metadata": {},
     "output_type": "execute_result"
    }
   ],
   "source": [
    "# Can check the IDF of a particular word in the entire *document*\n",
    "my_word = bow_transformer.vocabulary_[\"university\"]\n",
    "tfidf_transformer.idf_[my_word]"
   ]
  },
  {
   "cell_type": "code",
   "execution_count": 93,
   "metadata": {},
   "outputs": [
    {
     "data": {
      "text/plain": [
       "(9530,)"
      ]
     },
     "execution_count": 93,
     "metadata": {},
     "output_type": "execute_result"
    }
   ],
   "source": [
    "tfidf_transformer.idf_.shape"
   ]
  },
  {
   "cell_type": "code",
   "execution_count": 96,
   "metadata": {},
   "outputs": [],
   "source": [
    "messages_tfidf = tfidf_transformer.transform(messages_bow)"
   ]
  },
  {
   "cell_type": "code",
   "execution_count": 102,
   "metadata": {},
   "outputs": [
    {
     "data": {
      "text/plain": [
       "<5572x9530 sparse matrix of type '<class 'numpy.float64'>'\n",
       "\twith 50101 stored elements in Compressed Sparse Row format>"
      ]
     },
     "execution_count": 102,
     "metadata": {},
     "output_type": "execute_result"
    }
   ],
   "source": [
    "messages_tfidf"
   ]
  },
  {
   "cell_type": "code",
   "execution_count": 101,
   "metadata": {},
   "outputs": [
    {
     "name": "stdout",
     "output_type": "stream",
     "text": [
      "  (0, 9208)\t0.22959578341739934\n",
      "  (0, 8969)\t0.189831293914186\n",
      "  (0, 6445)\t0.26040801821775666\n",
      "  (0, 5686)\t0.17971478086009218\n",
      "  (0, 4858)\t0.2812662013316978\n",
      "  (0, 4696)\t0.3329366192459962\n",
      "  (0, 3883)\t0.18530789226463862\n",
      "  (0, 3843)\t0.15624436027998514\n",
      "  (0, 3786)\t0.15108467632518396\n",
      "  (0, 3016)\t0.19735531534420864\n",
      "  (0, 2485)\t0.2578364932928782\n",
      "  (0, 2200)\t0.2812662013316978\n",
      "  (0, 1860)\t0.2812662013316978\n",
      "  (0, 1858)\t0.3178239908077686\n",
      "  (0, 1389)\t0.2531713715948601\n",
      "  (0, 1156)\t0.3329366192459962\n",
      "  (1, 9103)\t0.4230047412305557\n",
      "  (1, 8626)\t0.19596103729644757\n",
      "  (1, 6038)\t0.5357016513330057\n",
      "  (1, 6006)\t0.26863679646521466\n",
      "  (1, 4897)\t0.40016667592540756\n",
      "  (1, 4664)\t0.5132162356950317\n",
      "  (2, 9160)\t0.18823702154324515\n",
      "  (2, 9117)\t0.14671124801712349\n",
      "  (2, 8610)\t0.12468874378265443\n",
      "  :\t:\n",
      "  (5568, 3805)\t0.31428191974562797\n",
      "  (5568, 3558)\t0.4864681881994221\n",
      "  (5568, 3180)\t0.558158973011152\n",
      "  (5568, 1421)\t0.3806451051797618\n",
      "  (5569, 8002)\t0.520467167163554\n",
      "  (5569, 7626)\t0.520467167163554\n",
      "  (5569, 6371)\t0.520467167163554\n",
      "  (5569, 5576)\t0.4328299709057074\n",
      "  (5570, 9018)\t0.20587309662942893\n",
      "  (5570, 8750)\t0.22885680181993553\n",
      "  (5570, 7651)\t0.22300064218489113\n",
      "  (5570, 5788)\t0.22748170116856642\n",
      "  (5570, 5010)\t0.17309579626308927\n",
      "  (5570, 4477)\t0.31127665837903273\n",
      "  (5570, 4340)\t0.2528238193759214\n",
      "  (5570, 3945)\t0.2659597808731948\n",
      "  (5570, 3696)\t0.2981406968817593\n",
      "  (5570, 3571)\t0.1736421512641747\n",
      "  (5570, 3095)\t0.2642759062758506\n",
      "  (5570, 1895)\t0.3064182024395156\n",
      "  (5570, 1643)\t0.3684601910938052\n",
      "  (5570, 974)\t0.3517350799453535\n",
      "  (5571, 8556)\t0.533311595848296\n",
      "  (5571, 7068)\t0.6900825960872882\n",
      "  (5571, 5699)\t0.4892491720086735\n"
     ]
    }
   ],
   "source": [
    "print(messages_tfidf)"
   ]
  },
  {
   "cell_type": "markdown",
   "metadata": {},
   "source": [
    "Finally, we can train our NLP model to help classify messages as spam vs ham. We will create a \"naive Bayes classifier\"."
   ]
  },
  {
   "cell_type": "code",
   "execution_count": 104,
   "metadata": {},
   "outputs": [],
   "source": [
    "spam_detect_model = MultinomialNB()"
   ]
  },
  {
   "cell_type": "code",
   "execution_count": 105,
   "metadata": {},
   "outputs": [
    {
     "data": {
      "text/plain": [
       "MultinomialNB(alpha=1.0, class_prior=None, fit_prior=True)"
      ]
     },
     "execution_count": 105,
     "metadata": {},
     "output_type": "execute_result"
    }
   ],
   "source": [
    "X = messages_tfidf\n",
    "y = messages[\"label\"]\n",
    "\n",
    "spam_detect_model.fit(X,y)"
   ]
  },
  {
   "cell_type": "markdown",
   "metadata": {},
   "source": [
    "Can pass in all original messages to see how it predicts...? (We don't have test data)"
   ]
  },
  {
   "cell_type": "code",
   "execution_count": 106,
   "metadata": {},
   "outputs": [],
   "source": [
    "predictions = spam_detect_model.predict(messages_tfidf)"
   ]
  },
  {
   "cell_type": "code",
   "execution_count": 112,
   "metadata": {},
   "outputs": [
    {
     "data": {
      "text/plain": [
       "array(['ham', 'ham', 'spam', ..., 'ham', 'ham', 'ham'], dtype='<U4')"
      ]
     },
     "execution_count": 112,
     "metadata": {},
     "output_type": "execute_result"
    }
   ],
   "source": [
    "predictions # Type -> NP array"
   ]
  },
  {
   "cell_type": "code",
   "execution_count": 113,
   "metadata": {},
   "outputs": [
    {
     "data": {
      "text/plain": [
       "0        ham\n",
       "1        ham\n",
       "2       spam\n",
       "3        ham\n",
       "4        ham\n",
       "        ... \n",
       "5567    spam\n",
       "5568     ham\n",
       "5569     ham\n",
       "5570     ham\n",
       "5571     ham\n",
       "Name: label, Length: 5572, dtype: object"
      ]
     },
     "execution_count": 113,
     "metadata": {},
     "output_type": "execute_result"
    }
   ],
   "source": [
    "messages[\"label\"] # Type -> PD series"
   ]
  },
  {
   "cell_type": "code",
   "execution_count": 118,
   "metadata": {},
   "outputs": [
    {
     "name": "stdout",
     "output_type": "stream",
     "text": [
      "[[4825  125]\n",
      " [   0  622]]\n",
      "\n",
      "\n",
      "\n",
      "\n",
      "              precision    recall  f1-score   support\n",
      "\n",
      "         ham       1.00      0.97      0.99      4950\n",
      "        spam       0.83      1.00      0.91       622\n",
      "\n",
      "    accuracy                           0.98      5572\n",
      "   macro avg       0.92      0.99      0.95      5572\n",
      "weighted avg       0.98      0.98      0.98      5572\n",
      "\n"
     ]
    }
   ],
   "source": [
    "print(confusion_matrix(predictions, messages[\"label\"]))\n",
    "print(\"\\n\\n\\n\")\n",
    "print(classification_report(predictions, messages[\"label\"]))"
   ]
  },
  {
   "cell_type": "code",
   "execution_count": 116,
   "metadata": {},
   "outputs": [
    {
     "data": {
      "text/plain": [
       "125"
      ]
     },
     "execution_count": 116,
     "metadata": {},
     "output_type": "execute_result"
    }
   ],
   "source": [
    "off_count=0\n",
    "for i in range(len(messages[\"label\"])):\n",
    "    if messages[\"label\"][i] != predictions[i]:\n",
    "        off_count += 1\n",
    "off_count"
   ]
  },
  {
   "cell_type": "markdown",
   "metadata": {},
   "source": [
    "**Let's actually do it properly, and split our data**"
   ]
  },
  {
   "cell_type": "code",
   "execution_count": 123,
   "metadata": {},
   "outputs": [],
   "source": [
    "X = messages[\"message\"]\n",
    "y = messages[\"label\"]\n",
    "\n",
    "X_train, X_test, y_train, y_test = train_test_split(X, y, test_size=0.3, random_state=42)"
   ]
  },
  {
   "cell_type": "code",
   "execution_count": 121,
   "metadata": {},
   "outputs": [],
   "source": [
    "pipeline = Pipeline( steps = [\n",
    "    (\"bow\", CountVectorizer(analyzer=text_tokenize)),\n",
    "    (\"tfidf\", TfidfTransformer()),\n",
    "    (\"classifier\", MultinomialNB())    \n",
    "])"
   ]
  },
  {
   "cell_type": "code",
   "execution_count": 124,
   "metadata": {},
   "outputs": [
    {
     "data": {
      "text/plain": [
       "Pipeline(memory=None,\n",
       "         steps=[('bow',\n",
       "                 CountVectorizer(analyzer=<function text_tokenize at 0x0000012775A5DA68>,\n",
       "                                 binary=False, decode_error='strict',\n",
       "                                 dtype=<class 'numpy.int64'>, encoding='utf-8',\n",
       "                                 input='content', lowercase=True, max_df=1.0,\n",
       "                                 max_features=None, min_df=1,\n",
       "                                 ngram_range=(1, 1), preprocessor=None,\n",
       "                                 stop_words=None, strip_accents=None,\n",
       "                                 token_pattern='(?u)\\\\b\\\\w\\\\w+\\\\b',\n",
       "                                 tokenizer=None, vocabulary=None)),\n",
       "                ('tfidf',\n",
       "                 TfidfTransformer(norm='l2', smooth_idf=True,\n",
       "                                  sublinear_tf=False, use_idf=True)),\n",
       "                ('classifier',\n",
       "                 MultinomialNB(alpha=1.0, class_prior=None, fit_prior=True))],\n",
       "         verbose=False)"
      ]
     },
     "execution_count": 124,
     "metadata": {},
     "output_type": "execute_result"
    }
   ],
   "source": [
    "pipeline.fit(X_train, y_train)"
   ]
  },
  {
   "cell_type": "code",
   "execution_count": 126,
   "metadata": {},
   "outputs": [],
   "source": [
    "predictions2 = pipeline.predict(X_test)"
   ]
  },
  {
   "cell_type": "code",
   "execution_count": 127,
   "metadata": {},
   "outputs": [
    {
     "name": "stdout",
     "output_type": "stream",
     "text": [
      "[[1448   57]\n",
      " [   0  167]]\n",
      "\n",
      "\n",
      "\n",
      "\n",
      "              precision    recall  f1-score   support\n",
      "\n",
      "         ham       1.00      0.96      0.98      1505\n",
      "        spam       0.75      1.00      0.85       167\n",
      "\n",
      "    accuracy                           0.97      1672\n",
      "   macro avg       0.87      0.98      0.92      1672\n",
      "weighted avg       0.97      0.97      0.97      1672\n",
      "\n"
     ]
    }
   ],
   "source": [
    "print(confusion_matrix(predictions2, y_test))\n",
    "print(\"\\n\\n\\n\")\n",
    "print(classification_report(predictions2, y_test))"
   ]
  },
  {
   "cell_type": "code",
   "execution_count": null,
   "metadata": {},
   "outputs": [],
   "source": []
  },
  {
   "cell_type": "code",
   "execution_count": null,
   "metadata": {},
   "outputs": [],
   "source": []
  },
  {
   "cell_type": "code",
   "execution_count": null,
   "metadata": {},
   "outputs": [],
   "source": []
  }
 ],
 "metadata": {
  "kernelspec": {
   "display_name": "Python 3",
   "language": "python",
   "name": "python3"
  },
  "language_info": {
   "codemirror_mode": {
    "name": "ipython",
    "version": 3
   },
   "file_extension": ".py",
   "mimetype": "text/x-python",
   "name": "python",
   "nbconvert_exporter": "python",
   "pygments_lexer": "ipython3",
   "version": "3.7.6"
  }
 },
 "nbformat": 4,
 "nbformat_minor": 4
}
